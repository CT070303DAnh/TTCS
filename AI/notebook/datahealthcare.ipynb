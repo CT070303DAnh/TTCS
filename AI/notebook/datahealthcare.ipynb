{
 "cells": [
  {
   "cell_type": "code",
   "execution_count": 23,
   "id": "6ce9fb22",
   "metadata": {},
   "outputs": [],
   "source": [
    "import pandas as pd\n",
    "from sklearn.preprocessing import LabelEncoder"
   ]
  },
  {
   "cell_type": "code",
   "execution_count": 24,
   "id": "09e9fe98",
   "metadata": {},
   "outputs": [],
   "source": [
    "df = pd.read_csv(\"..\\Medical_Data\\healthcare_dataset_origin.csv\")"
   ]
  },
  {
   "cell_type": "code",
   "execution_count": 25,
   "id": "8203b709",
   "metadata": {},
   "outputs": [
    {
     "data": {
      "text/html": [
       "<div>\n",
       "<style scoped>\n",
       "    .dataframe tbody tr th:only-of-type {\n",
       "        vertical-align: middle;\n",
       "    }\n",
       "\n",
       "    .dataframe tbody tr th {\n",
       "        vertical-align: top;\n",
       "    }\n",
       "\n",
       "    .dataframe thead th {\n",
       "        text-align: right;\n",
       "    }\n",
       "</style>\n",
       "<table border=\"1\" class=\"dataframe\">\n",
       "  <thead>\n",
       "    <tr style=\"text-align: right;\">\n",
       "      <th></th>\n",
       "      <th>Name</th>\n",
       "      <th>Age</th>\n",
       "      <th>Gender</th>\n",
       "      <th>Blood Type</th>\n",
       "      <th>Medical Condition</th>\n",
       "      <th>Date of Admission</th>\n",
       "      <th>Doctor</th>\n",
       "      <th>Hospital</th>\n",
       "      <th>Insurance Provider</th>\n",
       "      <th>Billing Amount</th>\n",
       "      <th>Room Number</th>\n",
       "      <th>Admission Type</th>\n",
       "      <th>Discharge Date</th>\n",
       "      <th>Medication</th>\n",
       "      <th>Test Results</th>\n",
       "    </tr>\n",
       "  </thead>\n",
       "  <tbody>\n",
       "    <tr>\n",
       "      <th>0</th>\n",
       "      <td>Bobby JacksOn</td>\n",
       "      <td>30</td>\n",
       "      <td>Male</td>\n",
       "      <td>B-</td>\n",
       "      <td>Cancer</td>\n",
       "      <td>2024-01-31</td>\n",
       "      <td>Matthew Smith</td>\n",
       "      <td>Sons and Miller</td>\n",
       "      <td>Blue Cross</td>\n",
       "      <td>18856.281306</td>\n",
       "      <td>328</td>\n",
       "      <td>Urgent</td>\n",
       "      <td>2024-02-02</td>\n",
       "      <td>Paracetamol</td>\n",
       "      <td>Normal</td>\n",
       "    </tr>\n",
       "    <tr>\n",
       "      <th>1</th>\n",
       "      <td>LesLie TErRy</td>\n",
       "      <td>62</td>\n",
       "      <td>Male</td>\n",
       "      <td>A+</td>\n",
       "      <td>Obesity</td>\n",
       "      <td>2019-08-20</td>\n",
       "      <td>Samantha Davies</td>\n",
       "      <td>Kim Inc</td>\n",
       "      <td>Medicare</td>\n",
       "      <td>33643.327287</td>\n",
       "      <td>265</td>\n",
       "      <td>Emergency</td>\n",
       "      <td>2019-08-26</td>\n",
       "      <td>Ibuprofen</td>\n",
       "      <td>Inconclusive</td>\n",
       "    </tr>\n",
       "    <tr>\n",
       "      <th>2</th>\n",
       "      <td>DaNnY sMitH</td>\n",
       "      <td>76</td>\n",
       "      <td>Female</td>\n",
       "      <td>A-</td>\n",
       "      <td>Obesity</td>\n",
       "      <td>2022-09-22</td>\n",
       "      <td>Tiffany Mitchell</td>\n",
       "      <td>Cook PLC</td>\n",
       "      <td>Aetna</td>\n",
       "      <td>27955.096079</td>\n",
       "      <td>205</td>\n",
       "      <td>Emergency</td>\n",
       "      <td>2022-10-07</td>\n",
       "      <td>Aspirin</td>\n",
       "      <td>Normal</td>\n",
       "    </tr>\n",
       "    <tr>\n",
       "      <th>3</th>\n",
       "      <td>andrEw waTtS</td>\n",
       "      <td>28</td>\n",
       "      <td>Female</td>\n",
       "      <td>O+</td>\n",
       "      <td>Diabetes</td>\n",
       "      <td>2020-11-18</td>\n",
       "      <td>Kevin Wells</td>\n",
       "      <td>Hernandez Rogers and Vang,</td>\n",
       "      <td>Medicare</td>\n",
       "      <td>37909.782410</td>\n",
       "      <td>450</td>\n",
       "      <td>Elective</td>\n",
       "      <td>2020-12-18</td>\n",
       "      <td>Ibuprofen</td>\n",
       "      <td>Abnormal</td>\n",
       "    </tr>\n",
       "    <tr>\n",
       "      <th>4</th>\n",
       "      <td>adrIENNE bEll</td>\n",
       "      <td>43</td>\n",
       "      <td>Female</td>\n",
       "      <td>AB+</td>\n",
       "      <td>Cancer</td>\n",
       "      <td>2022-09-19</td>\n",
       "      <td>Kathleen Hanna</td>\n",
       "      <td>White-White</td>\n",
       "      <td>Aetna</td>\n",
       "      <td>14238.317814</td>\n",
       "      <td>458</td>\n",
       "      <td>Urgent</td>\n",
       "      <td>2022-10-09</td>\n",
       "      <td>Penicillin</td>\n",
       "      <td>Abnormal</td>\n",
       "    </tr>\n",
       "  </tbody>\n",
       "</table>\n",
       "</div>"
      ],
      "text/plain": [
       "            Name  Age  Gender Blood Type Medical Condition Date of Admission  \\\n",
       "0  Bobby JacksOn   30    Male         B-            Cancer        2024-01-31   \n",
       "1   LesLie TErRy   62    Male         A+           Obesity        2019-08-20   \n",
       "2    DaNnY sMitH   76  Female         A-           Obesity        2022-09-22   \n",
       "3   andrEw waTtS   28  Female         O+          Diabetes        2020-11-18   \n",
       "4  adrIENNE bEll   43  Female        AB+            Cancer        2022-09-19   \n",
       "\n",
       "             Doctor                    Hospital Insurance Provider  \\\n",
       "0     Matthew Smith             Sons and Miller         Blue Cross   \n",
       "1   Samantha Davies                     Kim Inc           Medicare   \n",
       "2  Tiffany Mitchell                    Cook PLC              Aetna   \n",
       "3       Kevin Wells  Hernandez Rogers and Vang,           Medicare   \n",
       "4    Kathleen Hanna                 White-White              Aetna   \n",
       "\n",
       "   Billing Amount  Room Number Admission Type Discharge Date   Medication  \\\n",
       "0    18856.281306          328         Urgent     2024-02-02  Paracetamol   \n",
       "1    33643.327287          265      Emergency     2019-08-26    Ibuprofen   \n",
       "2    27955.096079          205      Emergency     2022-10-07      Aspirin   \n",
       "3    37909.782410          450       Elective     2020-12-18    Ibuprofen   \n",
       "4    14238.317814          458         Urgent     2022-10-09   Penicillin   \n",
       "\n",
       "   Test Results  \n",
       "0        Normal  \n",
       "1  Inconclusive  \n",
       "2        Normal  \n",
       "3      Abnormal  \n",
       "4      Abnormal  "
      ]
     },
     "execution_count": 25,
     "metadata": {},
     "output_type": "execute_result"
    }
   ],
   "source": [
    "df.head()"
   ]
  },
  {
   "cell_type": "code",
   "execution_count": 26,
   "id": "49fb05fd",
   "metadata": {},
   "outputs": [],
   "source": [
    "df.drop(columns=\"Name\", inplace=True)"
   ]
  },
  {
   "cell_type": "code",
   "execution_count": 27,
   "id": "5f7bea7c",
   "metadata": {},
   "outputs": [],
   "source": [
    "df.drop(columns=\"Date of Admission\", inplace=True)"
   ]
  },
  {
   "cell_type": "code",
   "execution_count": 28,
   "id": "83bb8b0a",
   "metadata": {},
   "outputs": [],
   "source": [
    "df.drop(columns=\"Room Number\", inplace=True)"
   ]
  },
  {
   "cell_type": "code",
   "execution_count": 29,
   "id": "61da52d9",
   "metadata": {},
   "outputs": [],
   "source": [
    "df.drop(columns=\"Hospital\", inplace=True)"
   ]
  },
  {
   "cell_type": "code",
   "execution_count": 30,
   "id": "2b1e4628",
   "metadata": {},
   "outputs": [],
   "source": [
    "df.drop(columns=\"Discharge Date\", inplace=True)"
   ]
  },
  {
   "cell_type": "code",
   "execution_count": 31,
   "id": "286f5d6b",
   "metadata": {},
   "outputs": [],
   "source": [
    "df.drop(columns=\"Insurance Provider\", inplace=True)"
   ]
  },
  {
   "cell_type": "code",
   "execution_count": 38,
   "id": "5685fb4c",
   "metadata": {},
   "outputs": [],
   "source": [
    "df.drop(columns=\"Doctor\", inplace=True)"
   ]
  },
  {
   "cell_type": "code",
   "execution_count": null,
   "id": "76421bec",
   "metadata": {},
   "outputs": [
    {
     "name": "stdout",
     "output_type": "stream",
     "text": [
      "0        1\n",
      "1        1\n",
      "2        0\n",
      "3        0\n",
      "4        0\n",
      "        ..\n",
      "55495    0\n",
      "55496    0\n",
      "55497    0\n",
      "55498    1\n",
      "55499    0\n",
      "Name: Gender, Length: 55500, dtype: int64\n"
     ]
    }
   ],
   "source": [
    "encoder = LabelEncoder()\n",
    "df[\"Gender\"] = encoder.fit_transform(df[\"Gender\"])\n",
    "print(df[\"Gender\"])\n",
    "print(\"Mapping:\", dict(zip(encoder.classes_, encoder.transform(encoder.classes_))))"
   ]
  },
  {
   "cell_type": "markdown",
   "id": "acced432",
   "metadata": {},
   "source": [
    "Male->1\n",
    "Female->0"
   ]
  },
  {
   "cell_type": "code",
   "execution_count": 36,
   "id": "9cdde1ff",
   "metadata": {},
   "outputs": [
    {
     "name": "stdout",
     "output_type": "stream",
     "text": [
      "0        2\n",
      "1        1\n",
      "2        1\n",
      "3        0\n",
      "4        2\n",
      "        ..\n",
      "55495    0\n",
      "55496    0\n",
      "55497    2\n",
      "55498    0\n",
      "55499    2\n",
      "Name: Admission Type, Length: 55500, dtype: int64\n",
      "Mapping: {'Elective': np.int64(0), 'Emergency': np.int64(1), 'Urgent': np.int64(2)}\n"
     ]
    }
   ],
   "source": [
    "encoder = LabelEncoder()\n",
    "df[\"Admission Type\"] = encoder.fit_transform(df[\"Admission Type\"])\n",
    "print(df[\"Admission Type\"])\n",
    "print(\"Mapping:\", dict(zip(encoder.classes_, encoder.transform(encoder.classes_))))"
   ]
  },
  {
   "cell_type": "markdown",
   "id": "d2548867",
   "metadata": {},
   "source": [
    "Elective -> 0\n",
    "Emergency -> 1\n",
    "Urgent -> 2"
   ]
  },
  {
   "cell_type": "code",
   "execution_count": 40,
   "id": "eb4b35a5",
   "metadata": {},
   "outputs": [
    {
     "name": "stdout",
     "output_type": "stream",
     "text": [
      "0        5\n",
      "1        0\n",
      "2        1\n",
      "3        6\n",
      "4        2\n",
      "        ..\n",
      "55495    6\n",
      "55496    3\n",
      "55497    4\n",
      "55498    7\n",
      "55499    6\n",
      "Name: Blood Type, Length: 55500, dtype: int64\n",
      "Mapping: {'A+': np.int64(0), 'A-': np.int64(1), 'AB+': np.int64(2), 'AB-': np.int64(3), 'B+': np.int64(4), 'B-': np.int64(5), 'O+': np.int64(6), 'O-': np.int64(7)}\n"
     ]
    }
   ],
   "source": [
    "encoder = LabelEncoder()\n",
    "df[\"Blood Type\"] = encoder.fit_transform(df[\"Blood Type\"])\n",
    "print(df[\"Blood Type\"])\n",
    "print(\"Mapping:\", dict(zip(encoder.classes_, encoder.transform(encoder.classes_))))"
   ]
  },
  {
   "cell_type": "markdown",
   "id": "026738e7",
   "metadata": {},
   "source": [
    "A+ -> 0\n",
    "A- -> 1\n",
    "AB+ -> 2\n",
    "AB- -> 3\n",
    "B+ -> 4\n",
    "B- -> 5\n",
    "O+ -> 6\n",
    "O- -> 7"
   ]
  },
  {
   "cell_type": "code",
   "execution_count": 42,
   "id": "520cd69b",
   "metadata": {},
   "outputs": [
    {
     "name": "stdout",
     "output_type": "stream",
     "text": [
      "0        2\n",
      "1        5\n",
      "2        5\n",
      "3        3\n",
      "4        2\n",
      "        ..\n",
      "55495    1\n",
      "55496    5\n",
      "55497    4\n",
      "55498    0\n",
      "55499    0\n",
      "Name: Medical Condition, Length: 55500, dtype: int64\n",
      "Mapping: {'Arthritis': np.int64(0), 'Asthma': np.int64(1), 'Cancer': np.int64(2), 'Diabetes': np.int64(3), 'Hypertension': np.int64(4), 'Obesity': np.int64(5)}\n"
     ]
    }
   ],
   "source": [
    "encoder = LabelEncoder()\n",
    "df[\"Medical Condition\"] = encoder.fit_transform(df[\"Medical Condition\"])\n",
    "print(df[\"Medical Condition\"])\n",
    "print(\"Mapping:\", dict(zip(encoder.classes_, encoder.transform(encoder.classes_))))"
   ]
  },
  {
   "cell_type": "markdown",
   "id": "8d29cecb",
   "metadata": {},
   "source": [
    "Arthritis -> 0\n",
    "Asthma -> 1\n",
    "Cancer -> 2\n",
    "Diabetes -> 3\n",
    "Hypertension -> 4\n",
    "Obesity -> 5"
   ]
  },
  {
   "cell_type": "code",
   "execution_count": 44,
   "id": "d2cf93ee",
   "metadata": {},
   "outputs": [
    {
     "name": "stdout",
     "output_type": "stream",
     "text": [
      "0        3\n",
      "1        1\n",
      "2        0\n",
      "3        1\n",
      "4        4\n",
      "        ..\n",
      "55495    4\n",
      "55496    0\n",
      "55497    1\n",
      "55498    1\n",
      "55499    1\n",
      "Name: Medication, Length: 55500, dtype: int64\n",
      "Mapping: {'Aspirin': np.int64(0), 'Ibuprofen': np.int64(1), 'Lipitor': np.int64(2), 'Paracetamol': np.int64(3), 'Penicillin': np.int64(4)}\n"
     ]
    }
   ],
   "source": [
    "encoder = LabelEncoder()\n",
    "df[\"Medication\"] = encoder.fit_transform(df[\"Medication\"])\n",
    "print(df[\"Medication\"])\n",
    "print(\"Mapping:\", dict(zip(encoder.classes_, encoder.transform(encoder.classes_))))"
   ]
  },
  {
   "cell_type": "markdown",
   "id": "24648601",
   "metadata": {},
   "source": [
    "Aspirin -> 0\n",
    "Ibuprofen -> 1\n",
    "Lipitor -> 2\n",
    "Paracetamol -> 3\n",
    "Penicillin -> 4"
   ]
  },
  {
   "cell_type": "code",
   "execution_count": 46,
   "id": "b8b6fa52",
   "metadata": {},
   "outputs": [
    {
     "name": "stdout",
     "output_type": "stream",
     "text": [
      "0        2\n",
      "1        1\n",
      "2        2\n",
      "3        0\n",
      "4        0\n",
      "        ..\n",
      "55495    0\n",
      "55496    2\n",
      "55497    0\n",
      "55498    0\n",
      "55499    0\n",
      "Name: Test Results, Length: 55500, dtype: int64\n",
      "Mapping: {'Abnormal': np.int64(0), 'Inconclusive': np.int64(1), 'Normal': np.int64(2)}\n"
     ]
    }
   ],
   "source": [
    "encoder = LabelEncoder()\n",
    "df[\"Test Results\"] = encoder.fit_transform(df[\"Test Results\"])\n",
    "print(df[\"Test Results\"])\n",
    "print(\"Mapping:\", dict(zip(encoder.classes_, encoder.transform(encoder.classes_))))"
   ]
  },
  {
   "cell_type": "markdown",
   "id": "de16a979",
   "metadata": {},
   "source": [
    "Abnormal -> 0\n",
    "Inconclusive -> 1\n",
    "Normal -> 2"
   ]
  },
  {
   "cell_type": "code",
   "execution_count": 47,
   "id": "4015cdb1",
   "metadata": {},
   "outputs": [
    {
     "data": {
      "text/html": [
       "<div>\n",
       "<style scoped>\n",
       "    .dataframe tbody tr th:only-of-type {\n",
       "        vertical-align: middle;\n",
       "    }\n",
       "\n",
       "    .dataframe tbody tr th {\n",
       "        vertical-align: top;\n",
       "    }\n",
       "\n",
       "    .dataframe thead th {\n",
       "        text-align: right;\n",
       "    }\n",
       "</style>\n",
       "<table border=\"1\" class=\"dataframe\">\n",
       "  <thead>\n",
       "    <tr style=\"text-align: right;\">\n",
       "      <th></th>\n",
       "      <th>Age</th>\n",
       "      <th>Gender</th>\n",
       "      <th>Blood Type</th>\n",
       "      <th>Medical Condition</th>\n",
       "      <th>Billing Amount</th>\n",
       "      <th>Admission Type</th>\n",
       "      <th>Medication</th>\n",
       "      <th>Test Results</th>\n",
       "    </tr>\n",
       "  </thead>\n",
       "  <tbody>\n",
       "    <tr>\n",
       "      <th>0</th>\n",
       "      <td>30</td>\n",
       "      <td>1</td>\n",
       "      <td>5</td>\n",
       "      <td>2</td>\n",
       "      <td>18856.281306</td>\n",
       "      <td>2</td>\n",
       "      <td>3</td>\n",
       "      <td>2</td>\n",
       "    </tr>\n",
       "    <tr>\n",
       "      <th>1</th>\n",
       "      <td>62</td>\n",
       "      <td>1</td>\n",
       "      <td>0</td>\n",
       "      <td>5</td>\n",
       "      <td>33643.327287</td>\n",
       "      <td>1</td>\n",
       "      <td>1</td>\n",
       "      <td>1</td>\n",
       "    </tr>\n",
       "    <tr>\n",
       "      <th>2</th>\n",
       "      <td>76</td>\n",
       "      <td>0</td>\n",
       "      <td>1</td>\n",
       "      <td>5</td>\n",
       "      <td>27955.096079</td>\n",
       "      <td>1</td>\n",
       "      <td>0</td>\n",
       "      <td>2</td>\n",
       "    </tr>\n",
       "    <tr>\n",
       "      <th>3</th>\n",
       "      <td>28</td>\n",
       "      <td>0</td>\n",
       "      <td>6</td>\n",
       "      <td>3</td>\n",
       "      <td>37909.782410</td>\n",
       "      <td>0</td>\n",
       "      <td>1</td>\n",
       "      <td>0</td>\n",
       "    </tr>\n",
       "    <tr>\n",
       "      <th>4</th>\n",
       "      <td>43</td>\n",
       "      <td>0</td>\n",
       "      <td>2</td>\n",
       "      <td>2</td>\n",
       "      <td>14238.317814</td>\n",
       "      <td>2</td>\n",
       "      <td>4</td>\n",
       "      <td>0</td>\n",
       "    </tr>\n",
       "  </tbody>\n",
       "</table>\n",
       "</div>"
      ],
      "text/plain": [
       "   Age  Gender  Blood Type  Medical Condition  Billing Amount  Admission Type  \\\n",
       "0   30       1           5                  2    18856.281306               2   \n",
       "1   62       1           0                  5    33643.327287               1   \n",
       "2   76       0           1                  5    27955.096079               1   \n",
       "3   28       0           6                  3    37909.782410               0   \n",
       "4   43       0           2                  2    14238.317814               2   \n",
       "\n",
       "   Medication  Test Results  \n",
       "0           3             2  \n",
       "1           1             1  \n",
       "2           0             2  \n",
       "3           1             0  \n",
       "4           4             0  "
      ]
     },
     "execution_count": 47,
     "metadata": {},
     "output_type": "execute_result"
    }
   ],
   "source": [
    "df.head()"
   ]
  },
  {
   "cell_type": "code",
   "execution_count": 48,
   "id": "79dd6ffe",
   "metadata": {},
   "outputs": [],
   "source": [
    "df.to_csv(\"D:\\Code\\TTCSCN\\AI\\Medical_Data\\healthcare_dataset.csv\", index=False)"
   ]
  }
 ],
 "metadata": {
  "kernelspec": {
   "display_name": "Python 3",
   "language": "python",
   "name": "python3"
  },
  "language_info": {
   "codemirror_mode": {
    "name": "ipython",
    "version": 3
   },
   "file_extension": ".py",
   "mimetype": "text/x-python",
   "name": "python",
   "nbconvert_exporter": "python",
   "pygments_lexer": "ipython3",
   "version": "3.11.3"
  }
 },
 "nbformat": 4,
 "nbformat_minor": 5
}
